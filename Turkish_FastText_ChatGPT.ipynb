{
 "cells": [
  {
   "cell_type": "code",
   "execution_count": 1,
   "id": "e11c3c12",
   "metadata": {},
   "outputs": [],
   "source": [
    "from transformers import BertTokenizer, BertForSequenceClassification, Trainer, TrainingArguments\n",
    "from transformers import AutoModelForSequenceClassification, AutoTokenizer, Trainer, TrainingArguments\n",
    "import json\n",
    "from sklearn.model_selection import train_test_split\n",
    "import pandas as pd\n",
    "import torch\n",
    "\n",
    "# Load the data\n",
    "#data = pd.read_csv('binary_labeled_text_data.csv')\n",
    "f = open('chatgpt_responses.json')\n",
    "  \n",
    "# returns JSON object as \n",
    "# a dictionary\n",
    "data = json.load(f)\n",
    "\n",
    "df = pd.DataFrame(data['texts'])\n",
    "\n",
    "\n",
    "df_ai = df['chatgpt']\n",
    "\n",
    "df_human = df['human']\n",
    "\n",
    "df_ai = pd.DataFrame(df_ai)\n",
    "\n",
    "df_human = pd.DataFrame(df_human)\n",
    "\n",
    "df_ai['label'] = 1\n",
    "\n",
    "df_human['label'] = 0\n",
    "\n",
    "df_ai = df_ai.rename(columns={'chatgpt': 'text'})\n",
    "df_human = df_human.rename(columns={'human': 'text'})\n",
    "\n",
    "\n",
    "data = pd.concat([df_ai, df_human])\n",
    "df_shuffled = data.sample(frac=1).reset_index(drop=True)\n"
   ]
  },
  {
   "cell_type": "code",
   "execution_count": 2,
   "id": "36fc9258",
   "metadata": {},
   "outputs": [],
   "source": [
    "import json\n",
    "import pandas as pd  \n",
    "import fasttext\n",
    "\n",
    "\n",
    "df = df_shuffled\n",
    "\n",
    "from sklearn.model_selection import train_test_split\n",
    "\"\"\n",
    "train, test = train_test_split(df, test_size=0.2)\n"
   ]
  },
  {
   "cell_type": "code",
   "execution_count": 3,
   "id": "81c63494",
   "metadata": {},
   "outputs": [
    {
     "name": "stderr",
     "output_type": "stream",
     "text": [
      "[nltk_data] Downloading package stopwords to\n",
      "[nltk_data]     /Users/bahadir/nltk_data...\n",
      "[nltk_data]   Package stopwords is already up-to-date!\n",
      "[nltk_data] Downloading package punkt to /Users/bahadir/nltk_data...\n",
      "[nltk_data]   Package punkt is already up-to-date!\n"
     ]
    }
   ],
   "source": [
    "import nltk\n",
    "from nltk.tokenize import word_tokenize\n",
    "from nltk.corpus import stopwords\n",
    "from snowballstemmer import TurkishStemmer\n",
    "  \n",
    "\n",
    "nltk.download('stopwords')\n",
    "nltk.download('punkt')\n",
    "\n",
    "# Define Turkish stopwords\n",
    "stop_words = set(stopwords.words('turkish'))\n",
    "\n",
    "# Define Turkish stemmer\n",
    "#stemmer = SnowballStemmer('turkish')\n",
    "stemmer=TurkishStemmer()\n",
    "\n",
    "def preprocess_text(text):\n",
    "    # Tokenize the text into individual words\n",
    "    tokens = word_tokenize(text.lower())\n",
    "\n",
    "    # Remove stop words\n",
    "    tokens = [token for token in tokens if token not in stop_words]\n",
    "\n",
    "    # Stem the remaining words\n",
    "    tokens = [stemmer.stemWord(token) for token in tokens]\n",
    "\n",
    "    # Rejoin the words into a single string\n",
    "    preprocessed_text = ' '.join(tokens)\n",
    "\n",
    "    return preprocessed_text\n"
   ]
  },
  {
   "cell_type": "code",
   "execution_count": 4,
   "id": "0512f439",
   "metadata": {},
   "outputs": [],
   "source": [
    "df.columns = ['text','label']"
   ]
  },
  {
   "cell_type": "code",
   "execution_count": 5,
   "id": "7d256369",
   "metadata": {},
   "outputs": [],
   "source": [
    "from nltk.tokenize import word_tokenize\n",
    "max_words = 200\n",
    "df['text'] = df['text'].apply(preprocess_text)\n",
    "df['text'] = df['text'].apply(lambda x: ' '.join(word_tokenize(x)[:max_words]))\n",
    "\n"
   ]
  },
  {
   "cell_type": "code",
   "execution_count": 6,
   "id": "6a79b9b8",
   "metadata": {},
   "outputs": [],
   "source": [
    "from sklearn.model_selection import train_test_split\n",
    "\n",
    "train, test = train_test_split(df, test_size=0.2, stratify = df['label'])"
   ]
  },
  {
   "cell_type": "code",
   "execution_count": 7,
   "id": "28a566a0",
   "metadata": {},
   "outputs": [],
   "source": [
    "data = []\n",
    "for index, row in train.iterrows():\n",
    "    label = '__label__' + str(row['label'])\n",
    "    text = row['text']\n",
    "    example = label + ' ' + text\n",
    "    data.append(example)\n",
    "\n",
    "# Save the examples to a text file\n",
    "with open('chatgpt_fasttext_train_data.txt', 'w') as f:\n",
    "    for example in data:\n",
    "        f.write(example + '\\n')\n",
    "        \n",
    "data = []\n",
    "for index, row in test.iterrows():\n",
    "    label = '__label__' + str(row['label'])\n",
    "    text = row['text']\n",
    "    example = label + ' ' + text\n",
    "    data.append(example)\n",
    "\n",
    "# Save the examples to a text file\n",
    "with open('chatgpt_fasttext_test_data.txt', 'w') as f:\n",
    "    for example in data:\n",
    "        f.write(example + '\\n')"
   ]
  },
  {
   "cell_type": "code",
   "execution_count": 8,
   "id": "1757f8cc",
   "metadata": {},
   "outputs": [
    {
     "name": "stderr",
     "output_type": "stream",
     "text": [
      "Read 0M words\n",
      "Number of words:  36246\n",
      "Number of labels: 2\n",
      "Progress:  59.3% words/sec/thread: 4264895 lr:  0.407328 avg.loss:  0.292500 ETA:   0h 0m 0s"
     ]
    },
    {
     "name": "stdout",
     "output_type": "stream",
     "text": [
      "Number of examples: 1151\n",
      "Precision: 0.7037358818418766\n",
      "Recall: 0.7037358818418766\n"
     ]
    },
    {
     "name": "stderr",
     "output_type": "stream",
     "text": [
      "\r",
      "Progress:  83.4% words/sec/thread: 4419195 lr:  0.165769 avg.loss:  0.232186 ETA:   0h 0m 0s\r",
      "Progress: 100.0% words/sec/thread: 4255875 lr: -0.000070 avg.loss:  0.206039 ETA:   0h 0m 0s\r",
      "Progress: 100.0% words/sec/thread: 4255401 lr:  0.000000 avg.loss:  0.206039 ETA:   0h 0m 0s\n"
     ]
    }
   ],
   "source": [
    "import fasttext\n",
    "# load the training data\n",
    "train_data = \"chatgpt_fasttext_train_data.txt\"\n",
    "# load the testing data\n",
    "test_data = \"chatgpt_fasttext_test_data.txt\"\n",
    "\n",
    "# train the model\n",
    "model = fasttext.train_supervised(input=train_data, epoch=25, lr = 1.0)\n",
    "\n",
    "# evaluate the model on the testing data\n",
    "result = model.test(test_data)\n",
    "\n",
    "# print the evaluation metrics\n",
    "print(\"Number of examples:\", result[0])\n",
    "print(\"Precision:\", result[1])\n",
    "print(\"Recall:\", result[2])\n",
    "\n"
   ]
  },
  {
   "cell_type": "code",
   "execution_count": 9,
   "id": "dd716b70",
   "metadata": {},
   "outputs": [
    {
     "name": "stderr",
     "output_type": "stream",
     "text": [
      "Read 0M words\n",
      "Number of words:  36246\n",
      "Number of labels: 2\n",
      "Progress:  95.1% words/sec/thread: 4070595 lr:  0.048911 avg.loss:  0.127007 ETA:   0h 0m 0s"
     ]
    },
    {
     "name": "stdout",
     "output_type": "stream",
     "text": [
      "Number of examples: 1151\n",
      "Precision: 0.7028670721112077\n",
      "Recall: 0.7028670721112077\n"
     ]
    },
    {
     "name": "stderr",
     "output_type": "stream",
     "text": [
      "\r",
      "Progress: 100.0% words/sec/thread: 3894897 lr: -0.000032 avg.loss:  0.121953 ETA:   0h 0m 0s\r",
      "Progress: 100.0% words/sec/thread: 3894701 lr:  0.000000 avg.loss:  0.121953 ETA:   0h 0m 0s\n"
     ]
    }
   ],
   "source": [
    "model = fasttext.train_supervised(input=train_data, epoch=50, lr = 1.0)\n",
    "\n",
    "# evaluate the model on the testing data\n",
    "result = model.test(test_data)\n",
    "\n",
    "# print the evaluation metrics\n",
    "print(\"Number of examples:\", result[0])\n",
    "print(\"Precision:\", result[1])\n",
    "print(\"Recall:\", result[2])\n"
   ]
  },
  {
   "cell_type": "code",
   "execution_count": 10,
   "id": "80767977",
   "metadata": {},
   "outputs": [
    {
     "name": "stderr",
     "output_type": "stream",
     "text": [
      "Read 0M words\n",
      "Number of words:  36246\n",
      "Number of labels: 2\n",
      "Progress:  97.5% words/sec/thread: 3530382 lr:  0.024837 avg.loss:  0.047568 ETA:   0h 0m 0s"
     ]
    },
    {
     "name": "stdout",
     "output_type": "stream",
     "text": [
      "Number of examples: 1151\n",
      "Precision: 0.7011294526498697\n",
      "Recall: 0.7011294526498697\n"
     ]
    },
    {
     "name": "stderr",
     "output_type": "stream",
     "text": [
      "\r",
      "Progress:  99.9% words/sec/thread: 3541355 lr:  0.001354 avg.loss:  0.046342 ETA:   0h 0m 0s\r",
      "Progress: 100.0% words/sec/thread: 3474790 lr: -0.000008 avg.loss:  0.046341 ETA:   0h 0m 0s\r",
      "Progress: 100.0% words/sec/thread: 3474746 lr:  0.000000 avg.loss:  0.046341 ETA:   0h 0m 0s\n"
     ]
    }
   ],
   "source": [
    "model = fasttext.train_supervised(input=train_data, epoch=200, lr = 1)\n",
    "\n",
    "# evaluate the model on the testing data\n",
    "result = model.test(test_data)\n",
    "\n",
    "# print the evaluation metrics\n",
    "print(\"Number of examples:\", result[0])\n",
    "print(\"Precision:\", result[1])\n",
    "print(\"Recall:\", result[2])"
   ]
  },
  {
   "cell_type": "code",
   "execution_count": 14,
   "id": "71b7719e",
   "metadata": {},
   "outputs": [
    {
     "data": {
      "text/plain": [
       "31"
      ]
     },
     "execution_count": 14,
     "metadata": {},
     "output_type": "execute_result"
    }
   ],
   "source": [
    "len(train_data)"
   ]
  },
  {
   "cell_type": "code",
   "execution_count": 11,
   "id": "59acce58",
   "metadata": {},
   "outputs": [
    {
     "name": "stderr",
     "output_type": "stream",
     "text": [
      "Read 0M words\n",
      "Number of words:  36246\n",
      "Number of labels: 2\n",
      "Progress:  95.8% words/sec/thread: 4173635 lr:  0.004191 avg.loss:  0.049152 ETA:   0h 0m 0s"
     ]
    },
    {
     "name": "stdout",
     "output_type": "stream",
     "text": [
      "Number of examples: 1151\n",
      "Precision: 0.7124239791485665\n",
      "Recall: 0.7124239791485665\n"
     ]
    },
    {
     "name": "stderr",
     "output_type": "stream",
     "text": [
      "\r",
      "Progress:  99.0% words/sec/thread: 4207252 lr:  0.001044 avg.loss:  0.047779 ETA:   0h 0m 0s\r",
      "Progress: 100.0% words/sec/thread: 4152723 lr: -0.000001 avg.loss:  0.047369 ETA:   0h 0m 0s\r",
      "Progress: 100.0% words/sec/thread: 4152610 lr:  0.000000 avg.loss:  0.047369 ETA:   0h 0m 0s\n"
     ]
    }
   ],
   "source": [
    "model = fasttext.train_supervised(input=train_data, epoch=200, lr = 0.1)\n",
    "\n",
    "# evaluate the model on the testing data\n",
    "result = model.test(test_data)\n",
    "\n",
    "# print the evaluation metrics\n",
    "print(\"Number of examples:\", result[0])\n",
    "print(\"Precision:\", result[1])\n",
    "print(\"Recall:\", result[2])"
   ]
  },
  {
   "cell_type": "code",
   "execution_count": 12,
   "id": "91597d5f",
   "metadata": {},
   "outputs": [
    {
     "name": "stderr",
     "output_type": "stream",
     "text": [
      "Read 0M words\n",
      "Number of words:  36246\n",
      "Number of labels: 2\n",
      "Progress:  99.7% words/sec/thread: 4214394 lr:  0.000308 avg.loss:  0.010983 ETA:   0h 0m 0s"
     ]
    },
    {
     "name": "stdout",
     "output_type": "stream",
     "text": [
      "Number of examples: 1151\n",
      "Precision: 0.7019982623805386\n",
      "Recall: 0.7019982623805386\n"
     ]
    },
    {
     "name": "stderr",
     "output_type": "stream",
     "text": [
      "\r",
      "Progress:  99.9% words/sec/thread: 4215383 lr:  0.000051 avg.loss:  0.010960 ETA:   0h 0m 0s\r",
      "Progress: 100.0% words/sec/thread: 4207450 lr: -0.000000 avg.loss:  0.010956 ETA:   0h 0m 0s\r",
      "Progress: 100.0% words/sec/thread: 4207435 lr:  0.000000 avg.loss:  0.010956 ETA:   0h 0m 0s\n"
     ]
    }
   ],
   "source": [
    "model = fasttext.train_supervised(input=train_data, epoch=2000, lr = 0.1)\n",
    "\n",
    "# evaluate the model on the testing data\n",
    "result = model.test(test_data)\n",
    "\n",
    "# print the evaluation metrics\n",
    "print(\"Number of examples:\", result[0])\n",
    "print(\"Precision:\", result[1])\n",
    "print(\"Recall:\", result[2])"
   ]
  },
  {
   "cell_type": "code",
   "execution_count": null,
   "id": "b8f78098",
   "metadata": {},
   "outputs": [],
   "source": []
  }
 ],
 "metadata": {
  "kernelspec": {
   "display_name": "Python 3 (ipykernel)",
   "language": "python",
   "name": "python3"
  },
  "language_info": {
   "codemirror_mode": {
    "name": "ipython",
    "version": 3
   },
   "file_extension": ".py",
   "mimetype": "text/x-python",
   "name": "python",
   "nbconvert_exporter": "python",
   "pygments_lexer": "ipython3",
   "version": "3.9.6"
  }
 },
 "nbformat": 4,
 "nbformat_minor": 5
}
