{
 "cells": [
  {
   "cell_type": "code",
   "execution_count": 18,
   "id": "c0b104fe",
   "metadata": {},
   "outputs": [],
   "source": [
    "from transformers import BertTokenizer, BertForSequenceClassification, Trainer, TrainingArguments\n",
    "from transformers import AutoModelForSequenceClassification, AutoTokenizer, Trainer, TrainingArguments\n",
    "\n",
    "from sklearn.model_selection import train_test_split\n",
    "import pandas as pd\n",
    "import torch\n",
    "\n",
    "# Load the data\n",
    "#data = pd.read_csv('binary_labeled_text_data.csv')\n",
    "data_list = []\n",
    "with open('train_chatgpt_rewrites_in_Turkish.txt', 'r') as file:\n",
    "    data = file.read().rstrip()"
   ]
  },
  {
   "cell_type": "code",
   "execution_count": 19,
   "id": "5763ca29",
   "metadata": {},
   "outputs": [],
   "source": [
    "split_ai = data.split(\"---------- o ----------\")"
   ]
  },
  {
   "cell_type": "code",
   "execution_count": 20,
   "id": "b312fe91",
   "metadata": {},
   "outputs": [],
   "source": [
    "df_ai = pd.DataFrame(split_ai, columns =['text'])\n"
   ]
  },
  {
   "cell_type": "code",
   "execution_count": 21,
   "id": "2b072696",
   "metadata": {},
   "outputs": [],
   "source": [
    "import re\n",
    "\n",
    "with open(\"trnews-64/trnews-64.train.raw\") as fi:\n",
    "    articles = re.split(\"\\n\\n\", fi.read()) "
   ]
  },
  {
   "cell_type": "code",
   "execution_count": 22,
   "id": "639cb28e",
   "metadata": {},
   "outputs": [],
   "source": [
    "articles = articles[0:1000]"
   ]
  },
  {
   "cell_type": "code",
   "execution_count": 23,
   "id": "65cab8a4",
   "metadata": {},
   "outputs": [],
   "source": [
    "truncated = []\n",
    "for article in articles:\n",
    "    splitted = article.split(\" \")\n",
    "    truncated.append(splitted[0:200])\n"
   ]
  },
  {
   "cell_type": "code",
   "execution_count": 24,
   "id": "0ee63b45",
   "metadata": {},
   "outputs": [],
   "source": [
    "truncated_text_human = []\n",
    "for trunc in truncated:\n",
    "    truncated_text_human.append(\" \".join(trunc))"
   ]
  },
  {
   "cell_type": "code",
   "execution_count": 25,
   "id": "47e3dc09",
   "metadata": {},
   "outputs": [],
   "source": [
    "df_human = pd.DataFrame(truncated_text_human, columns = ['text'])"
   ]
  },
  {
   "cell_type": "code",
   "execution_count": 26,
   "id": "9a737aad",
   "metadata": {},
   "outputs": [],
   "source": [
    "df_human['label'] = 0"
   ]
  },
  {
   "cell_type": "code",
   "execution_count": 27,
   "id": "3908190f",
   "metadata": {},
   "outputs": [],
   "source": [
    "df_ai['label'] = 1"
   ]
  },
  {
   "cell_type": "code",
   "execution_count": 28,
   "id": "604799ad",
   "metadata": {},
   "outputs": [],
   "source": [
    "#HUMAN SET 817, AI SETTE YOK."
   ]
  },
  {
   "cell_type": "code",
   "execution_count": 29,
   "id": "8458b7af",
   "metadata": {},
   "outputs": [],
   "source": [
    "df_human = df_human.drop(817)\n"
   ]
  },
  {
   "cell_type": "code",
   "execution_count": 30,
   "id": "cb66244c",
   "metadata": {},
   "outputs": [],
   "source": [
    "df_ai = df_ai.drop(999)"
   ]
  },
  {
   "cell_type": "code",
   "execution_count": 31,
   "id": "14f74628",
   "metadata": {},
   "outputs": [],
   "source": [
    "data = pd.concat([df_ai, df_human])\n"
   ]
  },
  {
   "cell_type": "code",
   "execution_count": 32,
   "id": "ec9133c4",
   "metadata": {},
   "outputs": [],
   "source": [
    "X_train, X_test, y_train, y_test = train_test_split(data['text'], data['label'], test_size=0.33, random_state=42)"
   ]
  },
  {
   "cell_type": "code",
   "execution_count": 33,
   "id": "548233ec",
   "metadata": {},
   "outputs": [],
   "source": [
    "y_val = y_test[0:330]\n",
    "y_test = y_test[330:]\n",
    "X_val = X_test[0:330]\n",
    "X_test = X_test[330:]"
   ]
  },
  {
   "cell_type": "code",
   "execution_count": 34,
   "id": "794da448",
   "metadata": {},
   "outputs": [],
   "source": [
    "tokenizer = BertTokenizer.from_pretrained('dbmdz/bert-base-turkish-128k-uncased')\n",
    "train_encodings = tokenizer(X_train.tolist(), truncation=True, padding=True)\n",
    "val_encodings = tokenizer(X_val.tolist(), truncation=True, padding=True)\n",
    "\n",
    "train_labels = y_train.tolist()\n",
    "val_labels = y_val.tolist()\n"
   ]
  },
  {
   "cell_type": "code",
   "execution_count": 35,
   "id": "8415cdba",
   "metadata": {},
   "outputs": [],
   "source": [
    "train_dataset = torch.utils.data.TensorDataset(\n",
    "        torch.tensor(train_encodings['input_ids']),\n",
    "        torch.tensor(train_encodings['attention_mask']),\n",
    "        torch.tensor(train_labels))\n",
    "val_dataset = torch.utils.data.TensorDataset(\n",
    "        torch.tensor(val_encodings['input_ids']),\n",
    "        torch.tensor(val_encodings['attention_mask']),\n",
    "        torch.tensor(val_labels))"
   ]
  },
  {
   "cell_type": "code",
   "execution_count": 36,
   "id": "00783b8b",
   "metadata": {},
   "outputs": [
    {
     "name": "stderr",
     "output_type": "stream",
     "text": [
      "Some weights of the model checkpoint at dbmdz/bert-base-turkish-128k-cased were not used when initializing BertForSequenceClassification: ['cls.predictions.bias', 'cls.predictions.transform.LayerNorm.weight', 'cls.predictions.transform.dense.weight', 'cls.predictions.transform.dense.bias', 'cls.seq_relationship.bias', 'cls.predictions.transform.LayerNorm.bias', 'cls.predictions.decoder.weight', 'cls.seq_relationship.weight', 'cls.predictions.decoder.bias']\n",
      "- This IS expected if you are initializing BertForSequenceClassification from the checkpoint of a model trained on another task or with another architecture (e.g. initializing a BertForSequenceClassification model from a BertForPreTraining model).\n",
      "- This IS NOT expected if you are initializing BertForSequenceClassification from the checkpoint of a model that you expect to be exactly identical (initializing a BertForSequenceClassification model from a BertForSequenceClassification model).\n",
      "Some weights of BertForSequenceClassification were not initialized from the model checkpoint at dbmdz/bert-base-turkish-128k-cased and are newly initialized: ['classifier.weight', 'classifier.bias']\n",
      "You should probably TRAIN this model on a down-stream task to be able to use it for predictions and inference.\n",
      "/Users/bahadir/Library/Python/3.9/lib/python/site-packages/transformers/optimization.py:306: FutureWarning: This implementation of AdamW is deprecated and will be removed in a future version. Use the PyTorch implementation torch.optim.AdamW instead, or set `no_deprecation_warning=True` to disable this warning\n",
      "  warnings.warn(\n",
      "***** Running training *****\n",
      "  Num examples = 1338\n",
      "  Num Epochs = 3\n",
      "  Instantaneous batch size per device = 16\n",
      "  Total train batch size (w. parallel, distributed & accumulation) = 16\n",
      "  Gradient Accumulation steps = 1\n",
      "  Total optimization steps = 252\n",
      "  Number of trainable parameters = 184346882\n"
     ]
    },
    {
     "data": {
      "text/html": [
       "\n",
       "    <div>\n",
       "      \n",
       "      <progress value='252' max='252' style='width:300px; height:20px; vertical-align: middle;'></progress>\n",
       "      [252/252 55:51, Epoch 3/3]\n",
       "    </div>\n",
       "    <table border=\"1\" class=\"dataframe\">\n",
       "  <thead>\n",
       " <tr style=\"text-align: left;\">\n",
       "      <th>Step</th>\n",
       "      <th>Training Loss</th>\n",
       "    </tr>\n",
       "  </thead>\n",
       "  <tbody>\n",
       "    <tr>\n",
       "      <td>100</td>\n",
       "      <td>0.584700</td>\n",
       "    </tr>\n",
       "    <tr>\n",
       "      <td>200</td>\n",
       "      <td>0.420100</td>\n",
       "    </tr>\n",
       "  </tbody>\n",
       "</table><p>"
      ],
      "text/plain": [
       "<IPython.core.display.HTML object>"
      ]
     },
     "metadata": {},
     "output_type": "display_data"
    },
    {
     "name": "stderr",
     "output_type": "stream",
     "text": [
      "\n",
      "\n",
      "Training completed. Do not forget to share your model on huggingface.co/models =)\n",
      "\n",
      "\n"
     ]
    },
    {
     "data": {
      "text/plain": [
       "TrainOutput(global_step=252, training_loss=0.4769162753271678, metrics={'train_runtime': 3364.5854, 'train_samples_per_second': 1.193, 'train_steps_per_second': 0.075, 'total_flos': 957115797194880.0, 'train_loss': 0.4769162753271678, 'epoch': 3.0})"
      ]
     },
     "execution_count": 36,
     "metadata": {},
     "output_type": "execute_result"
    }
   ],
   "source": [
    "model = AutoModelForSequenceClassification.from_pretrained('dbmdz/bert-base-turkish-128k-cased', num_labels=2)\n",
    "training_args= TrainingArguments(\n",
    "    output_dir=f'./results_bert-base-turkish-128k-cased/fold',\n",
    "    num_train_epochs=3,\n",
    "    per_device_train_batch_size=16,\n",
    "    per_device_eval_batch_size=64,\n",
    "    warmup_steps=500,\n",
    "    weight_decay=0.01,\n",
    "    logging_dir=f'./logs_bert-base-turkish-128k-cased/fold',\n",
    "    logging_steps=100)\n",
    "\n",
    "trainer = Trainer(\n",
    "    model=model,\n",
    "    args=training_args,\n",
    "    train_dataset=train_dataset,\n",
    "    eval_dataset=val_dataset,\n",
    "    data_collator=lambda data: {'input_ids': torch.stack([item[0] for item in data]),\n",
    "                                'attention_mask': torch.stack([item[1] for item in data]),\n",
    "                                'labels': torch.stack([item[2] for item in data])})\n",
    "trainer.train()"
   ]
  },
  {
   "cell_type": "code",
   "execution_count": 37,
   "id": "0e76278d",
   "metadata": {},
   "outputs": [],
   "source": [
    "import torch\n",
    "torch.save(model, 'model_1.sav')"
   ]
  },
  {
   "cell_type": "code",
   "execution_count": 41,
   "id": "51fa8ba2",
   "metadata": {},
   "outputs": [
    {
     "name": "stderr",
     "output_type": "stream",
     "text": [
      "***** Running Prediction *****\n",
      "  Num examples = 330\n",
      "  Batch size = 64\n"
     ]
    },
    {
     "data": {
      "text/html": [],
      "text/plain": [
       "<IPython.core.display.HTML object>"
      ]
     },
     "metadata": {},
     "output_type": "display_data"
    }
   ],
   "source": [
    "# Make predictions on the test data\n",
    "test_encodings = tokenizer(X_test.tolist(), truncation=True, padding=True)\n",
    "num_test_samples = len(test_encodings['input_ids'])\n",
    "test_labels = [0] * num_test_samples\n",
    "\n",
    "test_dataset = torch.utils.data.TensorDataset(\n",
    "    torch.tensor(test_encodings['input_ids']),\n",
    "    torch.tensor(test_encodings['attention_mask']),\n",
    "    torch.tensor(test_labels))\n",
    "\n",
    "predictions = trainer.predict(test_dataset)\n",
    "preds = predictions.predictions.argmax(-1)\n",
    "\n",
    "\n",
    "\n"
   ]
  },
  {
   "cell_type": "code",
   "execution_count": 44,
   "id": "76e6df96",
   "metadata": {},
   "outputs": [
    {
     "name": "stdout",
     "output_type": "stream",
     "text": [
      "Classification report:\n",
      "              precision    recall  f1-score   support\n",
      "\n",
      "           0       1.00      0.65      0.79       170\n",
      "           1       0.73      1.00      0.84       160\n",
      "\n",
      "    accuracy                           0.82       330\n",
      "   macro avg       0.87      0.83      0.82       330\n",
      "weighted avg       0.87      0.82      0.82       330\n",
      "\n"
     ]
    }
   ],
   "source": [
    "from sklearn.metrics import classification_report\n",
    "print(\"Classification report:\")\n",
    "print(classification_report(y_test, preds))\n",
    "\n"
   ]
  },
  {
   "cell_type": "code",
   "execution_count": null,
   "id": "cb9f63bc",
   "metadata": {},
   "outputs": [],
   "source": []
  }
 ],
 "metadata": {
  "kernelspec": {
   "display_name": "Python 3 (ipykernel)",
   "language": "python",
   "name": "python3"
  },
  "language_info": {
   "codemirror_mode": {
    "name": "ipython",
    "version": 3
   },
   "file_extension": ".py",
   "mimetype": "text/x-python",
   "name": "python",
   "nbconvert_exporter": "python",
   "pygments_lexer": "ipython3",
   "version": "3.9.6"
  }
 },
 "nbformat": 4,
 "nbformat_minor": 5
}
