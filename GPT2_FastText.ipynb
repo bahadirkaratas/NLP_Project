{
 "cells": [
  {
   "cell_type": "code",
   "execution_count": 1,
   "id": "5525cc5c",
   "metadata": {},
   "outputs": [],
   "source": [
    "import json\n",
    "import pandas as pd  \n",
    "\n",
    "f = open('human_data.json')\n",
    "  \n",
    "# returns JSON object as \n",
    "# a dictionary\n",
    "data = json.load(f)\n",
    "\n",
    "human_df = pd.DataFrame(data)\n",
    "f = open('ai.json')\n",
    "  \n",
    "# returns JSON object as \n",
    "# a dictionary\n",
    "data = json.load(f)\n",
    "ai_df = pd.DataFrame(data)\n",
    "ai_df.columns = ['text', 'label']\n",
    "df_concat = pd.concat([human_df, ai_df])\n",
    "\n",
    "# Shuffle the concatenated dataframe\n",
    "df_shuffled = df_concat.sample(frac=1).reset_index(drop=True)\n",
    "\n",
    "# Print the shuffled dataframe\n",
    "#print(df_shuffled)\n",
    "df = df_shuffled"
   ]
  },
  {
   "cell_type": "code",
   "execution_count": 2,
   "id": "81c63494",
   "metadata": {},
   "outputs": [
    {
     "name": "stderr",
     "output_type": "stream",
     "text": [
      "[nltk_data] Downloading package stopwords to\n",
      "[nltk_data]     /Users/bahadir/nltk_data...\n",
      "[nltk_data]   Package stopwords is already up-to-date!\n",
      "[nltk_data] Downloading package punkt to /Users/bahadir/nltk_data...\n",
      "[nltk_data]   Package punkt is already up-to-date!\n"
     ]
    }
   ],
   "source": [
    "import nltk\n",
    "from nltk.tokenize import word_tokenize\n",
    "from nltk.corpus import stopwords\n",
    "from snowballstemmer import TurkishStemmer\n",
    "  \n",
    "\n",
    "nltk.download('stopwords')\n",
    "nltk.download('punkt')\n",
    "\n",
    "# Define Turkish stopwords\n",
    "stop_words = set(stopwords.words('turkish'))\n",
    "\n",
    "# Define Turkish stemmer\n",
    "#stemmer = SnowballStemmer('turkish')\n",
    "stemmer=TurkishStemmer()\n",
    "\n",
    "def preprocess_text(text):\n",
    "    # Tokenize the text into individual words\n",
    "    tokens = word_tokenize(text.lower())\n",
    "\n",
    "    # Remove stop words\n",
    "    tokens = [token for token in tokens if token not in stop_words]\n",
    "\n",
    "    # Stem the remaining words\n",
    "    tokens = [stemmer.stemWord(token) for token in tokens]\n",
    "\n",
    "    # Rejoin the words into a single string\n",
    "    preprocessed_text = ' '.join(tokens)\n",
    "\n",
    "    return preprocessed_text\n"
   ]
  },
  {
   "cell_type": "code",
   "execution_count": 3,
   "id": "7d256369",
   "metadata": {},
   "outputs": [],
   "source": [
    "from nltk.tokenize import word_tokenize\n",
    "max_words = 200\n",
    "df['text'] = df['text'].apply(preprocess_text)\n",
    "df['text'] = df['text'].apply(lambda x: ' '.join(word_tokenize(x)[:max_words]))\n",
    "\n"
   ]
  },
  {
   "cell_type": "code",
   "execution_count": 4,
   "id": "6a79b9b8",
   "metadata": {},
   "outputs": [],
   "source": [
    "from sklearn.model_selection import train_test_split\n",
    "\n",
    "train, test = train_test_split(df, test_size=0.2, stratify = df['label'])"
   ]
  },
  {
   "cell_type": "code",
   "execution_count": 5,
   "id": "2c518690",
   "metadata": {},
   "outputs": [
    {
     "name": "stdout",
     "output_type": "stream",
     "text": [
      "<class 'pandas.core.frame.DataFrame'>\n",
      "Int64Index: 6527 entries, 3248 to 8069\n",
      "Data columns (total 2 columns):\n",
      " #   Column  Non-Null Count  Dtype \n",
      "---  ------  --------------  ----- \n",
      " 0   text    6527 non-null   object\n",
      " 1   label   6527 non-null   int64 \n",
      "dtypes: int64(1), object(1)\n",
      "memory usage: 153.0+ KB\n"
     ]
    }
   ],
   "source": [
    "train.info()"
   ]
  },
  {
   "cell_type": "code",
   "execution_count": 6,
   "id": "28a566a0",
   "metadata": {},
   "outputs": [],
   "source": [
    "data = []\n",
    "for index, row in train.iterrows():\n",
    "    label = '__label__' + str(row['label'])\n",
    "    text = row['text']\n",
    "    example = label + ' ' + text\n",
    "    data.append(example)\n",
    "\n",
    "# Save the examples to a text file\n",
    "with open('fasttext_train_data.txt', 'w') as f:\n",
    "    for example in data:\n",
    "        f.write(example + '\\n')\n",
    "        \n",
    "data = []\n",
    "for index, row in test.iterrows():\n",
    "    label = '__label__' + str(row['label'])\n",
    "    text = row['text']\n",
    "    example = label + ' ' + text\n",
    "    data.append(example)\n",
    "\n",
    "# Save the examples to a text file\n",
    "with open('fasttext_test_data.txt', 'w') as f:\n",
    "    for example in data:\n",
    "        f.write(example + '\\n')"
   ]
  },
  {
   "cell_type": "code",
   "execution_count": 7,
   "id": "1757f8cc",
   "metadata": {},
   "outputs": [
    {
     "name": "stderr",
     "output_type": "stream",
     "text": [
      "Read 1M words\n",
      "Number of words:  61221\n",
      "Number of labels: 2\n",
      "Progress:  93.9% words/sec/thread: 4420114 lr:  0.060847 avg.loss:  0.007812 ETA:   0h 0m 0s"
     ]
    },
    {
     "name": "stdout",
     "output_type": "stream",
     "text": [
      "Number of examples: 1632\n",
      "Precision: 0.9938725490196079\n",
      "Recall: 0.9938725490196079\n"
     ]
    },
    {
     "name": "stderr",
     "output_type": "stream",
     "text": [
      "\r",
      "Progress: 100.0% words/sec/thread: 4188941 lr: -0.000041 avg.loss:  0.007582 ETA:   0h 0m 0s\r",
      "Progress: 100.0% words/sec/thread: 4188706 lr:  0.000000 avg.loss:  0.007582 ETA:   0h 0m 0s\n"
     ]
    }
   ],
   "source": [
    "import fasttext\n",
    "# load the training data\n",
    "train_data = \"fasttext_train_data.txt\"\n",
    "# load the testing data\n",
    "test_data = \"fasttext_test_data.txt\"\n",
    "\n",
    "# train the model\n",
    "model = fasttext.train_supervised(input=train_data, epoch=25,lr=1.0)\n",
    "\n",
    "# evaluate the model on the testing data\n",
    "result = model.test(test_data)\n",
    "\n",
    "# print the evaluation metrics\n",
    "print(\"Number of examples:\", result[0])\n",
    "print(\"Precision:\", result[1])\n",
    "print(\"Recall:\", result[2])\n",
    "\n"
   ]
  },
  {
   "cell_type": "code",
   "execution_count": 8,
   "id": "dd716b70",
   "metadata": {},
   "outputs": [
    {
     "name": "stderr",
     "output_type": "stream",
     "text": [
      "Read 1M words\n",
      "Number of words:  61221\n",
      "Number of labels: 2\n",
      "Progress:  93.8% words/sec/thread: 4177617 lr:  0.006244 avg.loss:  0.025701 ETA:   0h 0m 0s"
     ]
    },
    {
     "name": "stdout",
     "output_type": "stream",
     "text": [
      "Number of examples: 1632\n",
      "Precision: 0.9926470588235294\n",
      "Recall: 0.9926470588235294\n"
     ]
    },
    {
     "name": "stderr",
     "output_type": "stream",
     "text": [
      "\r",
      "Progress:  97.0% words/sec/thread: 4093001 lr:  0.002951 avg.loss:  0.024999 ETA:   0h 0m 0s\r",
      "Progress: 100.0% words/sec/thread: 3996273 lr: -0.000002 avg.loss:  0.024312 ETA:   0h 0m 0s\r",
      "Progress: 100.0% words/sec/thread: 3995951 lr:  0.000000 avg.loss:  0.024312 ETA:   0h 0m 0s\n"
     ]
    }
   ],
   "source": [
    "model = fasttext.train_supervised(input=train_data, epoch=50)\n",
    "\n",
    "# evaluate the model on the testing data\n",
    "result = model.test(test_data)\n",
    "\n",
    "# print the evaluation metrics\n",
    "print(\"Number of examples:\", result[0])\n",
    "print(\"Precision:\", result[1])\n",
    "print(\"Recall:\", result[2])\n"
   ]
  },
  {
   "cell_type": "code",
   "execution_count": 9,
   "id": "08b95434",
   "metadata": {},
   "outputs": [],
   "source": [
    "from nltk.tokenize import word_tokenize\n",
    "max_words = 200\n",
    "human_df['text'] = human_df['text'].apply(preprocess_text)\n",
    "human_df['text'] = human_df['text'].apply(lambda x: ' '.join(word_tokenize(x)[:max_words]))\n"
   ]
  },
  {
   "cell_type": "code",
   "execution_count": 10,
   "id": "e46b1e30",
   "metadata": {},
   "outputs": [],
   "source": [
    "data = []\n",
    "for index, row in human_df.iterrows():\n",
    "    label = '__label__' + str(row['label'])\n",
    "    text = row['text']\n",
    "    example = label + ' ' + text\n",
    "    data.append(example)\n",
    "\n",
    "# Save the examples to a text file\n",
    "with open('SILINECEK.txt', 'w') as f:\n",
    "    for example in data:\n",
    "        f.write(example + '\\n')"
   ]
  },
  {
   "cell_type": "code",
   "execution_count": 11,
   "id": "677bee86",
   "metadata": {},
   "outputs": [],
   "source": [
    "result = model.test('SILINECEK.txt')\n"
   ]
  },
  {
   "cell_type": "code",
   "execution_count": 12,
   "id": "743b1bfa",
   "metadata": {},
   "outputs": [
    {
     "name": "stdout",
     "output_type": "stream",
     "text": [
      "Number of examples: 4000\n",
      "Precision: 0.998\n",
      "Recall: 0.998\n"
     ]
    }
   ],
   "source": [
    "print(\"Number of examples:\", result[0])\n",
    "print(\"Precision:\", result[1])\n",
    "print(\"Recall:\", result[2])"
   ]
  }
 ],
 "metadata": {
  "kernelspec": {
   "display_name": "Python 3 (ipykernel)",
   "language": "python",
   "name": "python3"
  },
  "language_info": {
   "codemirror_mode": {
    "name": "ipython",
    "version": 3
   },
   "file_extension": ".py",
   "mimetype": "text/x-python",
   "name": "python",
   "nbconvert_exporter": "python",
   "pygments_lexer": "ipython3",
   "version": "3.9.6"
  }
 },
 "nbformat": 4,
 "nbformat_minor": 5
}
