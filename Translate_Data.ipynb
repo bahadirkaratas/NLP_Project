{
 "cells": [
  {
   "cell_type": "code",
   "execution_count": null,
   "metadata": {
    "colab": {
     "base_uri": "https://localhost:8080/"
    },
    "id": "As5Zfm2G7yBw",
    "outputId": "b4908f47-9d49-42da-eeca-6da77b7cfa00"
   },
   "outputs": [
    {
     "name": "stdout",
     "output_type": "stream",
     "text": [
      "Looking in indexes: https://pypi.org/simple, https://us-python.pkg.dev/colab-wheels/public/simple/\n",
      "Requirement already satisfied: argostranslate in /usr/local/lib/python3.10/dist-packages (1.8.0)\n",
      "Requirement already satisfied: ctranslate2==2.24.0 in /usr/local/lib/python3.10/dist-packages (from argostranslate) (2.24.0)\n",
      "Requirement already satisfied: sentencepiece==0.1.96 in /usr/local/lib/python3.10/dist-packages (from argostranslate) (0.1.96)\n",
      "Requirement already satisfied: stanza==1.1.1 in /usr/local/lib/python3.10/dist-packages (from argostranslate) (1.1.1)\n",
      "Requirement already satisfied: numpy in /usr/local/lib/python3.10/dist-packages (from ctranslate2==2.24.0->argostranslate) (1.22.4)\n",
      "Requirement already satisfied: pyyaml<7,>=5.3 in /usr/local/lib/python3.10/dist-packages (from ctranslate2==2.24.0->argostranslate) (6.0)\n",
      "Requirement already satisfied: protobuf in /usr/local/lib/python3.10/dist-packages (from stanza==1.1.1->argostranslate) (3.20.3)\n",
      "Requirement already satisfied: requests in /usr/local/lib/python3.10/dist-packages (from stanza==1.1.1->argostranslate) (2.27.1)\n",
      "Requirement already satisfied: torch>=1.3.0 in /usr/local/lib/python3.10/dist-packages (from stanza==1.1.1->argostranslate) (2.0.0+cu118)\n",
      "Requirement already satisfied: tqdm in /usr/local/lib/python3.10/dist-packages (from stanza==1.1.1->argostranslate) (4.65.0)\n",
      "Requirement already satisfied: filelock in /usr/local/lib/python3.10/dist-packages (from torch>=1.3.0->stanza==1.1.1->argostranslate) (3.12.0)\n",
      "Requirement already satisfied: typing-extensions in /usr/local/lib/python3.10/dist-packages (from torch>=1.3.0->stanza==1.1.1->argostranslate) (4.5.0)\n",
      "Requirement already satisfied: sympy in /usr/local/lib/python3.10/dist-packages (from torch>=1.3.0->stanza==1.1.1->argostranslate) (1.11.1)\n",
      "Requirement already satisfied: networkx in /usr/local/lib/python3.10/dist-packages (from torch>=1.3.0->stanza==1.1.1->argostranslate) (3.1)\n",
      "Requirement already satisfied: jinja2 in /usr/local/lib/python3.10/dist-packages (from torch>=1.3.0->stanza==1.1.1->argostranslate) (3.1.2)\n",
      "Requirement already satisfied: triton==2.0.0 in /usr/local/lib/python3.10/dist-packages (from torch>=1.3.0->stanza==1.1.1->argostranslate) (2.0.0)\n",
      "Requirement already satisfied: cmake in /usr/local/lib/python3.10/dist-packages (from triton==2.0.0->torch>=1.3.0->stanza==1.1.1->argostranslate) (3.25.2)\n",
      "Requirement already satisfied: lit in /usr/local/lib/python3.10/dist-packages (from triton==2.0.0->torch>=1.3.0->stanza==1.1.1->argostranslate) (16.0.2)\n",
      "Requirement already satisfied: urllib3<1.27,>=1.21.1 in /usr/local/lib/python3.10/dist-packages (from requests->stanza==1.1.1->argostranslate) (1.26.15)\n",
      "Requirement already satisfied: certifi>=2017.4.17 in /usr/local/lib/python3.10/dist-packages (from requests->stanza==1.1.1->argostranslate) (2022.12.7)\n",
      "Requirement already satisfied: charset-normalizer~=2.0.0 in /usr/local/lib/python3.10/dist-packages (from requests->stanza==1.1.1->argostranslate) (2.0.12)\n",
      "Requirement already satisfied: idna<4,>=2.5 in /usr/local/lib/python3.10/dist-packages (from requests->stanza==1.1.1->argostranslate) (3.4)\n",
      "Requirement already satisfied: MarkupSafe>=2.0 in /usr/local/lib/python3.10/dist-packages (from jinja2->torch>=1.3.0->stanza==1.1.1->argostranslate) (2.1.2)\n",
      "Requirement already satisfied: mpmath>=0.19 in /usr/local/lib/python3.10/dist-packages (from sympy->torch>=1.3.0->stanza==1.1.1->argostranslate) (1.3.0)\n",
      "Looking in indexes: https://pypi.org/simple, https://us-python.pkg.dev/colab-wheels/public/simple/\n",
      "Requirement already satisfied: transformers in /usr/local/lib/python3.10/dist-packages (4.28.1)\n",
      "Requirement already satisfied: filelock in /usr/local/lib/python3.10/dist-packages (from transformers) (3.12.0)\n",
      "Requirement already satisfied: huggingface-hub<1.0,>=0.11.0 in /usr/local/lib/python3.10/dist-packages (from transformers) (0.14.1)\n",
      "Requirement already satisfied: numpy>=1.17 in /usr/local/lib/python3.10/dist-packages (from transformers) (1.22.4)\n",
      "Requirement already satisfied: packaging>=20.0 in /usr/local/lib/python3.10/dist-packages (from transformers) (23.1)\n",
      "Requirement already satisfied: pyyaml>=5.1 in /usr/local/lib/python3.10/dist-packages (from transformers) (6.0)\n",
      "Requirement already satisfied: regex!=2019.12.17 in /usr/local/lib/python3.10/dist-packages (from transformers) (2022.10.31)\n",
      "Requirement already satisfied: requests in /usr/local/lib/python3.10/dist-packages (from transformers) (2.27.1)\n",
      "Requirement already satisfied: tokenizers!=0.11.3,<0.14,>=0.11.1 in /usr/local/lib/python3.10/dist-packages (from transformers) (0.13.3)\n",
      "Requirement already satisfied: tqdm>=4.27 in /usr/local/lib/python3.10/dist-packages (from transformers) (4.65.0)\n",
      "Requirement already satisfied: fsspec in /usr/local/lib/python3.10/dist-packages (from huggingface-hub<1.0,>=0.11.0->transformers) (2023.4.0)\n",
      "Requirement already satisfied: typing-extensions>=3.7.4.3 in /usr/local/lib/python3.10/dist-packages (from huggingface-hub<1.0,>=0.11.0->transformers) (4.5.0)\n",
      "Requirement already satisfied: urllib3<1.27,>=1.21.1 in /usr/local/lib/python3.10/dist-packages (from requests->transformers) (1.26.15)\n",
      "Requirement already satisfied: certifi>=2017.4.17 in /usr/local/lib/python3.10/dist-packages (from requests->transformers) (2022.12.7)\n",
      "Requirement already satisfied: charset-normalizer~=2.0.0 in /usr/local/lib/python3.10/dist-packages (from requests->transformers) (2.0.12)\n",
      "Requirement already satisfied: idna<4,>=2.5 in /usr/local/lib/python3.10/dist-packages (from requests->transformers) (3.4)\n",
      "Son Yayınlanma: 12 Eylül 2016 25:49 IST\n",
      "\n",
      "Bu makale, NOFI Frontline kurucusu Jafa Khan'dan geliyor.\n",
      "\n",
      "Ev tabanımdan savaşın, Bangladeş boyunca paylaşılan nispeten kesin bir gerçekle karşılaştırıldığında neredeyse hiçbir şey olmadığını bilmek benim gibi büyüyen yaşlı bir vatandaş olmanız gerekmez. Ne yazık ki genç, çocuklar için, çocuklara elektronik savaş eğitiminin% 90'ını veriyorum; bu benim değerlerimden biridir.\n",
      "\n",
      "Birçok genç için, eve geldiğinizde ve onlara bir silah yeniden hedefleme uygulaması ve \"Golden Tetree\" gösterdiğinizde kesinlikle bunun doğru bir konsept olduğunu açıkça görüyorum. Bu çocukların gerçek yüksek net değeri bugün 11-20 yaş arası birçok Çinli stajyerdir. Silahların ve hava savaşlarının dağılımında sağlam bir adım atıyorlar ve aslında büyüyorlar ve medya/dedicated atıcılara kıyasla ortalama kamu değeri aslında 400 kelimedir (iş kişinin gelirinden çok daha fazla). Yabancı İşler Files'ın tam bir bölümü bana birden fazla transfer rotaları, dövüş jetleri, saldırı ve komuta ve kontrol bilgilerini, hangi hedefleri, füze duman detektörleri, düşman kayıplarının üzerinde yangın pozisyonu kullanılmış, kanat süpersonik turizm, tırmanmak, Buggies'lerin çevresindeki düzenlemeler çeşitli düzenlenmiş görevleri yerine getirmek için erkeklere sahip olsa da, sınır binalarının silah geri hedeflemesi, manifold ilerlemesinde önemli faktörlerden biridir. Ama bu, duymayı itiraf ettiğim başka bir zaman meselesini gündeme getiriyor ve bu çok önemli ve tabu, ele almaya çalışıyorum.\n"
     ]
    }
   ],
   "source": [
    "!pip install argostranslate\n",
    "!pip install transformers\n",
    "import argostranslate.package\n",
    "import argostranslate.translate\n",
    "\n",
    "from_code = \"en\"  # source language\n",
    "to_code = \"tr\"    # target language\n",
    "\n",
    "# Download and install Argos Translate package\n",
    "argostranslate.package.update_package_index()\n",
    "available_packages = argostranslate.package.get_available_packages()\n",
    "package_to_install = next(\n",
    "    filter(\n",
    "        lambda x: x.from_code == from_code and x.to_code == to_code, available_packages\n",
    "    )\n",
    ")\n",
    "argostranslate.package.install_from_path(package_to_install.download())"
   ]
  },
  {
   "cell_type": "code",
   "execution_count": null,
   "metadata": {
    "id": "ophCtJoT74dm"
   },
   "outputs": [],
   "source": [
    "import pandas as pd\n",
    "\n",
    "# Load the data\n",
    "#data = pd.read_csv('binary_labeled_text_data.csv')\n",
    "data_list = []\n",
    "with open('train_chatgpt_rewrites_in_English.txt', 'r') as file:\n",
    "    data = file.read().rstrip()"
   ]
  },
  {
   "cell_type": "code",
   "execution_count": null,
   "metadata": {
    "id": "hPpD2-1XhU8u"
   },
   "outputs": [],
   "source": [
    "split_ai = data.split(\"---------- o ----------\")"
   ]
  },
  {
   "cell_type": "code",
   "execution_count": null,
   "metadata": {
    "id": "UjgOoJOdKuSX"
   },
   "outputs": [],
   "source": [
    "translated_data = []\n",
    "for data in split_ai:\n",
    "  translatedText = argostranslate.translate.translate(data, from_code, to_code)\n",
    "  translated_data.append(translatedText)"
   ]
  },
  {
   "cell_type": "code",
   "execution_count": null,
   "metadata": {
    "id": "Z1Pbdo3ZQG_2"
   },
   "outputs": [],
   "source": [
    "f = open(\"translated_chatgpt_rewrites.txt\", \"a\")\n",
    "j = 0\n",
    "for data in translated_data:\n",
    "  f.write(str(j) + \"|\" +data + \"\\n\")\n",
    "  j = j+1\n",
    "f.close()"
   ]
  },
  {
   "cell_type": "code",
   "execution_count": null,
   "metadata": {
    "colab": {
     "base_uri": "https://localhost:8080/",
     "height": 17
    },
    "id": "vcXcPEsDw5ML",
    "outputId": "03e4be89-2e7b-421f-b60b-4dc28141d70f"
   },
   "outputs": [
    {
     "data": {
      "application/javascript": [
       "\n",
       "    async function download(id, filename, size) {\n",
       "      if (!google.colab.kernel.accessAllowed) {\n",
       "        return;\n",
       "      }\n",
       "      const div = document.createElement('div');\n",
       "      const label = document.createElement('label');\n",
       "      label.textContent = `Downloading \"${filename}\": `;\n",
       "      div.appendChild(label);\n",
       "      const progress = document.createElement('progress');\n",
       "      progress.max = size;\n",
       "      div.appendChild(progress);\n",
       "      document.body.appendChild(div);\n",
       "\n",
       "      const buffers = [];\n",
       "      let downloaded = 0;\n",
       "\n",
       "      const channel = await google.colab.kernel.comms.open(id);\n",
       "      // Send a message to notify the kernel that we're ready.\n",
       "      channel.send({})\n",
       "\n",
       "      for await (const message of channel.messages) {\n",
       "        // Send a message to notify the kernel that we're ready.\n",
       "        channel.send({})\n",
       "        if (message.buffers) {\n",
       "          for (const buffer of message.buffers) {\n",
       "            buffers.push(buffer);\n",
       "            downloaded += buffer.byteLength;\n",
       "            progress.value = downloaded;\n",
       "          }\n",
       "        }\n",
       "      }\n",
       "      const blob = new Blob(buffers, {type: 'application/binary'});\n",
       "      const a = document.createElement('a');\n",
       "      a.href = window.URL.createObjectURL(blob);\n",
       "      a.download = filename;\n",
       "      div.appendChild(a);\n",
       "      a.click();\n",
       "      div.remove();\n",
       "    }\n",
       "  "
      ],
      "text/plain": [
       "<IPython.core.display.Javascript object>"
      ]
     },
     "metadata": {},
     "output_type": "display_data"
    },
    {
     "data": {
      "application/javascript": [
       "download(\"download_6cfe7a87-f2bf-427f-a075-fe5a335d7e35\", \"3_translated_chatgpt_rewrites.txt\", 531808)"
      ],
      "text/plain": [
       "<IPython.core.display.Javascript object>"
      ]
     },
     "metadata": {},
     "output_type": "display_data"
    }
   ],
   "source": [
    "from google.colab import files\n",
    "files.download('3_translated_chatgpt_rewrites.txt')"
   ]
  }
 ],
 "metadata": {
  "colab": {
   "provenance": []
  },
  "gpuClass": "standard",
  "kernelspec": {
   "display_name": "Python 3 (ipykernel)",
   "language": "python",
   "name": "python3"
  },
  "language_info": {
   "codemirror_mode": {
    "name": "ipython",
    "version": 3
   },
   "file_extension": ".py",
   "mimetype": "text/x-python",
   "name": "python",
   "nbconvert_exporter": "python",
   "pygments_lexer": "ipython3",
   "version": "3.9.6"
  }
 },
 "nbformat": 4,
 "nbformat_minor": 1
}
