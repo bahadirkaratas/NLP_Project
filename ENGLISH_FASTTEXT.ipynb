{
 "cells": [
  {
   "cell_type": "code",
   "execution_count": 1,
   "id": "888c91ac",
   "metadata": {},
   "outputs": [],
   "source": [
    "from transformers import BertTokenizer, BertForSequenceClassification, Trainer, TrainingArguments\n",
    "from transformers import AutoModelForSequenceClassification, AutoTokenizer, Trainer, TrainingArguments\n",
    "\n",
    "from sklearn.model_selection import train_test_split\n",
    "import pandas as pd\n",
    "import torch\n",
    "import json\n"
   ]
  },
  {
   "cell_type": "code",
   "execution_count": 29,
   "id": "c47a7aec",
   "metadata": {},
   "outputs": [],
   "source": [
    "f = open('translated_chatgpt.json')\n",
    "  \n",
    "# returns JSON object as \n",
    "# a dictionary\n",
    "data = json.load(f)\n",
    "df_ai = pd.DataFrame(data)"
   ]
  },
  {
   "cell_type": "code",
   "execution_count": 30,
   "id": "69bf7841",
   "metadata": {},
   "outputs": [],
   "source": [
    "import re\n",
    "\n",
    "with open(\"trnews-64/trnews-64.train.raw\") as fi:\n",
    "    articles = re.split(\"\\n\\n\", fi.read()) "
   ]
  },
  {
   "cell_type": "code",
   "execution_count": 31,
   "id": "5e24b1a8",
   "metadata": {},
   "outputs": [],
   "source": [
    "articles = articles[0:1000]"
   ]
  },
  {
   "cell_type": "code",
   "execution_count": 32,
   "id": "a71c1131",
   "metadata": {},
   "outputs": [],
   "source": [
    "truncated = []\n",
    "for article in articles:\n",
    "    splitted = article.split(\" \")\n",
    "    truncated.append(splitted[0:200])\n"
   ]
  },
  {
   "cell_type": "code",
   "execution_count": 33,
   "id": "420cdd7a",
   "metadata": {},
   "outputs": [],
   "source": [
    "truncated_text_human = []\n",
    "for trunc in truncated:\n",
    "    truncated_text_human.append(\" \".join(trunc))"
   ]
  },
  {
   "cell_type": "code",
   "execution_count": 34,
   "id": "5452b135",
   "metadata": {},
   "outputs": [],
   "source": [
    "df_human = pd.DataFrame(truncated_text_human, columns = ['Text'])"
   ]
  },
  {
   "cell_type": "code",
   "execution_count": 35,
   "id": "24e51849",
   "metadata": {},
   "outputs": [],
   "source": [
    "df_human = df_human.drop(44)"
   ]
  },
  {
   "cell_type": "code",
   "execution_count": 36,
   "id": "d56c3f97",
   "metadata": {},
   "outputs": [],
   "source": [
    "df_human['label'] = 0"
   ]
  },
  {
   "cell_type": "code",
   "execution_count": 37,
   "id": "34bfe4f9",
   "metadata": {},
   "outputs": [],
   "source": [
    "df_ai['label'] = 1"
   ]
  },
  {
   "cell_type": "code",
   "execution_count": 38,
   "id": "e58e5b29",
   "metadata": {},
   "outputs": [],
   "source": [
    "data = pd.concat([df_ai, df_human])\n"
   ]
  },
  {
   "cell_type": "code",
   "execution_count": 39,
   "id": "2b1647e5",
   "metadata": {},
   "outputs": [
    {
     "data": {
      "text/plain": [
       "2001"
      ]
     },
     "execution_count": 39,
     "metadata": {},
     "output_type": "execute_result"
    }
   ],
   "source": [
    "len(data)"
   ]
  },
  {
   "cell_type": "code",
   "execution_count": 40,
   "id": "5525cc5c",
   "metadata": {},
   "outputs": [],
   "source": [
    "df_shuffled = data.sample(frac=1).reset_index(drop=True)\n",
    "\n",
    "df = df_shuffled"
   ]
  },
  {
   "cell_type": "code",
   "execution_count": 41,
   "id": "81c63494",
   "metadata": {},
   "outputs": [
    {
     "name": "stderr",
     "output_type": "stream",
     "text": [
      "[nltk_data] Downloading package stopwords to\n",
      "[nltk_data]     /Users/bahadir/nltk_data...\n",
      "[nltk_data]   Package stopwords is already up-to-date!\n",
      "[nltk_data] Downloading package punkt to /Users/bahadir/nltk_data...\n",
      "[nltk_data]   Package punkt is already up-to-date!\n"
     ]
    }
   ],
   "source": [
    "import nltk\n",
    "from nltk.tokenize import word_tokenize\n",
    "from nltk.corpus import stopwords\n",
    "from snowballstemmer import TurkishStemmer\n",
    "  \n",
    "\n",
    "nltk.download('stopwords')\n",
    "nltk.download('punkt')\n",
    "\n",
    "# Define Turkish stopwords\n",
    "stop_words = set(stopwords.words('turkish'))\n",
    "\n",
    "# Define Turkish stemmer\n",
    "#stemmer = SnowballStemmer('turkish')\n",
    "stemmer=TurkishStemmer()\n",
    "\n",
    "def preprocess_text(text):\n",
    "    # Tokenize the text into individual words\n",
    "    tokens = word_tokenize(text.lower())\n",
    "\n",
    "    # Remove stop words\n",
    "    tokens = [token for token in tokens if token not in stop_words]\n",
    "\n",
    "    # Stem the remaining words\n",
    "    tokens = [stemmer.stemWord(token) for token in tokens]\n",
    "\n",
    "    # Rejoin the words into a single string\n",
    "    preprocessed_text = ' '.join(tokens)\n",
    "\n",
    "    return preprocessed_text\n"
   ]
  },
  {
   "cell_type": "code",
   "execution_count": 42,
   "id": "7d256369",
   "metadata": {},
   "outputs": [],
   "source": [
    "from nltk.tokenize import word_tokenize\n",
    "max_words = 200\n",
    "df['Text'] = df['Text'].apply(preprocess_text)\n",
    "df['Text'] = df['Text'].apply(lambda x: ' '.join(word_tokenize(x)[:max_words]))\n",
    "\n"
   ]
  },
  {
   "cell_type": "code",
   "execution_count": 43,
   "id": "6a79b9b8",
   "metadata": {},
   "outputs": [],
   "source": [
    "from sklearn.model_selection import train_test_split\n",
    "\n",
    "train, test = train_test_split(df, test_size=0.2, stratify = df['label'])"
   ]
  },
  {
   "cell_type": "code",
   "execution_count": 44,
   "id": "2c518690",
   "metadata": {},
   "outputs": [
    {
     "name": "stdout",
     "output_type": "stream",
     "text": [
      "<class 'pandas.core.frame.DataFrame'>\n",
      "Int64Index: 1600 entries, 363 to 1712\n",
      "Data columns (total 2 columns):\n",
      " #   Column  Non-Null Count  Dtype \n",
      "---  ------  --------------  ----- \n",
      " 0   Text    1600 non-null   object\n",
      " 1   label   1600 non-null   int64 \n",
      "dtypes: int64(1), object(1)\n",
      "memory usage: 37.5+ KB\n"
     ]
    }
   ],
   "source": [
    "train.info()"
   ]
  },
  {
   "cell_type": "code",
   "execution_count": 45,
   "id": "28a566a0",
   "metadata": {},
   "outputs": [
    {
     "name": "stdout",
     "output_type": "stream",
     "text": [
      "401\n"
     ]
    }
   ],
   "source": [
    "data = []\n",
    "for index, row in train.iterrows():\n",
    "    label = '__label__' + str(row['label'])\n",
    "    text = row['Text']\n",
    "    example = label + ' ' + text\n",
    "    data.append(example)\n",
    "\n",
    "# Save the examples to a text file\n",
    "with open('fasttext_train_data.txt', 'w') as f:\n",
    "    for example in data:\n",
    "        f.write(example + '\\n')\n",
    "        \n",
    "data = []\n",
    "for index, row in test.iterrows():\n",
    "    label = '__label__' + str(row['label'])\n",
    "    text = row['Text']\n",
    "    example = label + ' ' + text\n",
    "    data.append(example)\n",
    "print(len(data))\n",
    "# Save the examples to a text file\n",
    "with open('fasttext_test_data.txt', 'w') as f:\n",
    "    for example in data:\n",
    "        f.write(example + '\\n')"
   ]
  },
  {
   "cell_type": "code",
   "execution_count": 46,
   "id": "1757f8cc",
   "metadata": {},
   "outputs": [
    {
     "name": "stderr",
     "output_type": "stream",
     "text": [
      "\r",
      "Read 0M words\n",
      "Number of words:  24234\n",
      "Number of labels: 2\n",
      "\r",
      "Progress:  49.2% words/sec/thread: 4126576 lr:  0.508127 avg.loss:  0.091350 ETA:   0h 0m 0s"
     ]
    },
    {
     "name": "stdout",
     "output_type": "stream",
     "text": [
      "Number of examples: 401\n",
      "Precision: 0.9551122194513716\n",
      "Recall: 0.9551122194513716\n"
     ]
    },
    {
     "name": "stderr",
     "output_type": "stream",
     "text": [
      "\r",
      "Progress:  96.7% words/sec/thread: 4258849 lr:  0.032788 avg.loss:  0.050312 ETA:   0h 0m 0s\r",
      "Progress: 100.0% words/sec/thread: 2990164 lr: -0.000172 avg.loss:  0.049777 ETA:   0h 0m 0s\r",
      "Progress: 100.0% words/sec/thread: 2988046 lr:  0.000000 avg.loss:  0.049777 ETA:   0h 0m 0s\n"
     ]
    }
   ],
   "source": [
    "import fasttext\n",
    "# load the training data\n",
    "train_data = \"fasttext_train_data.txt\"\n",
    "# load the testing data\n",
    "test_data = \"fasttext_test_data.txt\"\n",
    "\n",
    "# train the model\n",
    "model = fasttext.train_supervised(input=train_data, epoch=25,lr=1.0)\n",
    "\n",
    "# evaluate the model on the testing data\n",
    "result = model.test(test_data)\n",
    "\n",
    "# print the evaluation metrics\n",
    "print(\"Number of examples:\", result[0])\n",
    "print(\"Precision:\", result[1])\n",
    "print(\"Recall:\", result[2])\n",
    "\n"
   ]
  },
  {
   "cell_type": "code",
   "execution_count": 47,
   "id": "dd716b70",
   "metadata": {},
   "outputs": [
    {
     "name": "stderr",
     "output_type": "stream",
     "text": [
      "Read 0M words\n",
      "Number of words:  24234\n",
      "Number of labels: 2\n",
      "Progress:  92.3% words/sec/thread: 4238240 lr:  0.007675 avg.loss:  0.106826 ETA:   0h 0m 0s"
     ]
    },
    {
     "name": "stdout",
     "output_type": "stream",
     "text": [
      "Number of examples: 401\n",
      "Precision: 0.9675810473815462\n",
      "Recall: 0.9675810473815462\n"
     ]
    },
    {
     "name": "stderr",
     "output_type": "stream",
     "text": [
      "\r",
      "Progress: 100.0% words/sec/thread: 3680653 lr: -0.000009 avg.loss:  0.099812 ETA:   0h 0m 0s\r",
      "Progress: 100.0% words/sec/thread: 3680048 lr:  0.000000 avg.loss:  0.099812 ETA:   0h 0m 0s\n"
     ]
    }
   ],
   "source": [
    "model = fasttext.train_supervised(input=train_data, epoch=50)\n",
    "\n",
    "# evaluate the model on the testing data\n",
    "result = model.test(test_data)\n",
    "\n",
    "# print the evaluation metrics\n",
    "print(\"Number of examples:\", result[0])\n",
    "print(\"Precision:\", result[1])\n",
    "print(\"Recall:\", result[2])\n"
   ]
  },
  {
   "cell_type": "code",
   "execution_count": 48,
   "id": "4c8bef47",
   "metadata": {},
   "outputs": [
    {
     "name": "stderr",
     "output_type": "stream",
     "text": [
      "Read 0M words\n",
      "Number of words:  24234\n",
      "Number of labels: 2\n",
      "Progress: 100.0% words/sec/thread: 4321983 lr:  0.000047 avg.loss:  0.002381 ETA:   0h 0m 0s0.004318 ETA:   0h 0m28s"
     ]
    },
    {
     "name": "stdout",
     "output_type": "stream",
     "text": [
      "Number of examples: 401\n",
      "Precision: 0.9675810473815462\n",
      "Recall: 0.9675810473815462\n"
     ]
    },
    {
     "name": "stderr",
     "output_type": "stream",
     "text": [
      "\r",
      "Progress: 100.0% words/sec/thread: 4313983 lr: -0.000000 avg.loss:  0.002381 ETA:   0h 0m 0s\r",
      "Progress: 100.0% words/sec/thread: 4313967 lr:  0.000000 avg.loss:  0.002381 ETA:   0h 0m 0s\n"
     ]
    }
   ],
   "source": [
    "model = fasttext.train_supervised(input=train_data, epoch=5000)\n",
    "\n",
    "# evaluate the model on the testing data\n",
    "result = model.test(test_data)\n",
    "\n",
    "# print the evaluation metrics\n",
    "print(\"Number of examples:\", result[0])\n",
    "print(\"Precision:\", result[1])\n",
    "print(\"Recall:\", result[2])"
   ]
  }
 ],
 "metadata": {
  "kernelspec": {
   "display_name": "Python 3 (ipykernel)",
   "language": "python",
   "name": "python3"
  },
  "language_info": {
   "codemirror_mode": {
    "name": "ipython",
    "version": 3
   },
   "file_extension": ".py",
   "mimetype": "text/x-python",
   "name": "python",
   "nbconvert_exporter": "python",
   "pygments_lexer": "ipython3",
   "version": "3.9.6"
  }
 },
 "nbformat": 4,
 "nbformat_minor": 5
}
